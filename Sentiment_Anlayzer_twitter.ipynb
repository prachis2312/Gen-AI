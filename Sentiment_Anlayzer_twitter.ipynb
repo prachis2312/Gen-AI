{
  "cells": [
    {
      "cell_type": "code",
      "execution_count": null,
      "metadata": {
        "colab": {
          "base_uri": "https://localhost:8080/"
        },
        "id": "0AA9djWE7Iic",
        "outputId": "f85c1ffc-1b86-4776-9049-dea6ff4ae879"
      },
      "outputs": [
        {
          "name": "stdout",
          "output_type": "stream",
          "text": [
            "Requirement already satisfied: transformers in /usr/local/lib/python3.11/dist-packages (4.53.2)\n",
            "Requirement already satisfied: filelock in /usr/local/lib/python3.11/dist-packages (from transformers) (3.18.0)\n",
            "Requirement already satisfied: huggingface-hub<1.0,>=0.30.0 in /usr/local/lib/python3.11/dist-packages (from transformers) (0.33.4)\n",
            "Requirement already satisfied: numpy>=1.17 in /usr/local/lib/python3.11/dist-packages (from transformers) (2.0.2)\n",
            "Requirement already satisfied: packaging>=20.0 in /usr/local/lib/python3.11/dist-packages (from transformers) (25.0)\n",
            "Requirement already satisfied: pyyaml>=5.1 in /usr/local/lib/python3.11/dist-packages (from transformers) (6.0.2)\n",
            "Requirement already satisfied: regex!=2019.12.17 in /usr/local/lib/python3.11/dist-packages (from transformers) (2024.11.6)\n",
            "Requirement already satisfied: requests in /usr/local/lib/python3.11/dist-packages (from transformers) (2.32.3)\n",
            "Requirement already satisfied: tokenizers<0.22,>=0.21 in /usr/local/lib/python3.11/dist-packages (from transformers) (0.21.2)\n",
            "Requirement already satisfied: safetensors>=0.4.3 in /usr/local/lib/python3.11/dist-packages (from transformers) (0.5.3)\n",
            "Requirement already satisfied: tqdm>=4.27 in /usr/local/lib/python3.11/dist-packages (from transformers) (4.67.1)\n",
            "Requirement already satisfied: fsspec>=2023.5.0 in /usr/local/lib/python3.11/dist-packages (from huggingface-hub<1.0,>=0.30.0->transformers) (2025.3.2)\n",
            "Requirement already satisfied: typing-extensions>=3.7.4.3 in /usr/local/lib/python3.11/dist-packages (from huggingface-hub<1.0,>=0.30.0->transformers) (4.14.1)\n",
            "Requirement already satisfied: hf-xet<2.0.0,>=1.1.2 in /usr/local/lib/python3.11/dist-packages (from huggingface-hub<1.0,>=0.30.0->transformers) (1.1.5)\n",
            "Requirement already satisfied: charset-normalizer<4,>=2 in /usr/local/lib/python3.11/dist-packages (from requests->transformers) (3.4.2)\n",
            "Requirement already satisfied: idna<4,>=2.5 in /usr/local/lib/python3.11/dist-packages (from requests->transformers) (3.10)\n",
            "Requirement already satisfied: urllib3<3,>=1.21.1 in /usr/local/lib/python3.11/dist-packages (from requests->transformers) (2.4.0)\n",
            "Requirement already satisfied: certifi>=2017.4.17 in /usr/local/lib/python3.11/dist-packages (from requests->transformers) (2025.7.14)\n"
          ]
        }
      ],
      "source": [
        "!pip install transformers"
      ]
    },
    {
      "cell_type": "code",
      "execution_count": null,
      "metadata": {
        "colab": {
          "base_uri": "https://localhost:8080/"
        },
        "id": "ER-orbQFiJ5A",
        "outputId": "3d41f9d2-682f-4814-f6ca-cf86b38fe860"
      },
      "outputs": [
        {
          "name": "stdout",
          "output_type": "stream",
          "text": [
            "Requirement already satisfied: pandas in /usr/local/lib/python3.11/dist-packages (2.2.2)\n",
            "Requirement already satisfied: nltk in /usr/local/lib/python3.11/dist-packages (3.9.1)\n",
            "Requirement already satisfied: seaborn in /usr/local/lib/python3.11/dist-packages (0.13.2)\n",
            "Requirement already satisfied: matplotlib in /usr/local/lib/python3.11/dist-packages (3.10.0)\n",
            "Requirement already satisfied: numpy>=1.23.2 in /usr/local/lib/python3.11/dist-packages (from pandas) (2.0.2)\n",
            "Requirement already satisfied: python-dateutil>=2.8.2 in /usr/local/lib/python3.11/dist-packages (from pandas) (2.9.0.post0)\n",
            "Requirement already satisfied: pytz>=2020.1 in /usr/local/lib/python3.11/dist-packages (from pandas) (2025.2)\n",
            "Requirement already satisfied: tzdata>=2022.7 in /usr/local/lib/python3.11/dist-packages (from pandas) (2025.2)\n",
            "Requirement already satisfied: click in /usr/local/lib/python3.11/dist-packages (from nltk) (8.2.1)\n",
            "Requirement already satisfied: joblib in /usr/local/lib/python3.11/dist-packages (from nltk) (1.5.1)\n",
            "Requirement already satisfied: regex>=2021.8.3 in /usr/local/lib/python3.11/dist-packages (from nltk) (2024.11.6)\n",
            "Requirement already satisfied: tqdm in /usr/local/lib/python3.11/dist-packages (from nltk) (4.67.1)\n",
            "Requirement already satisfied: contourpy>=1.0.1 in /usr/local/lib/python3.11/dist-packages (from matplotlib) (1.3.2)\n",
            "Requirement already satisfied: cycler>=0.10 in /usr/local/lib/python3.11/dist-packages (from matplotlib) (0.12.1)\n",
            "Requirement already satisfied: fonttools>=4.22.0 in /usr/local/lib/python3.11/dist-packages (from matplotlib) (4.59.0)\n",
            "Requirement already satisfied: kiwisolver>=1.3.1 in /usr/local/lib/python3.11/dist-packages (from matplotlib) (1.4.8)\n",
            "Requirement already satisfied: packaging>=20.0 in /usr/local/lib/python3.11/dist-packages (from matplotlib) (25.0)\n",
            "Requirement already satisfied: pillow>=8 in /usr/local/lib/python3.11/dist-packages (from matplotlib) (11.2.1)\n",
            "Requirement already satisfied: pyparsing>=2.3.1 in /usr/local/lib/python3.11/dist-packages (from matplotlib) (3.2.3)\n",
            "Requirement already satisfied: six>=1.5 in /usr/local/lib/python3.11/dist-packages (from python-dateutil>=2.8.2->pandas) (1.17.0)\n"
          ]
        },
        {
          "name": "stderr",
          "output_type": "stream",
          "text": [
            "[nltk_data] Downloading package stopwords to /root/nltk_data...\n",
            "[nltk_data]   Unzipping corpora/stopwords.zip.\n"
          ]
        },
        {
          "data": {
            "text/plain": [
              "True"
            ]
          },
          "execution_count": 2,
          "metadata": {},
          "output_type": "execute_result"
        }
      ],
      "source": [
        "!pip install pandas nltk seaborn matplotlib\n",
        "import pandas as pd         #helps to organize data,like putting tweets into a clean table\n",
        "import nltk                 #tool for working with words , like cleaning texts\n",
        "from nltk.corpus import stopwords #grabs specific part of nltk like a list of common words(lek 'the' or 'and') which you will remove fromt weets to focus on important words\n",
        "import re                         #regular expression , helps you to clean text by removing commas and exclamation marks!\n",
        "from transformers import pipeline # brings pipeline took from hugging face , which makes it easy to use AI models, like the one that checks if tweets are happy or sad\n",
        "import seaborn as sns\n",
        "import matplotlib.pyplot as plt    #both seaborn and matplotlib used for showing results,like happy or sad!\n",
        "from collections import Counter    #count tweets\n",
        "nltk.download('stopwords')         #downloads a list of common words, so you can use it to clean your tweets"
      ]
    },
    {
      "cell_type": "code",
      "execution_count": null,
      "metadata": {
        "id": "TV32JD0wlHak"
      },
      "outputs": [],
      "source": [
        "data=pd.read_csv('twitter_dataset.csv')\n",
        "data.head()\n",
        "texts=data[['Text']]   #extracts only the text column from the dataframe data(it contains tweets which are to be analyzed)"
      ]
    },
    {
      "cell_type": "code",
      "execution_count": null,
      "metadata": {
        "colab": {
          "base_uri": "https://localhost:8080/"
        },
        "id": "CVPrWHo3mUxz",
        "outputId": "c63233f2-b599-4841-bcb4-f03a6aa7e868"
      },
      "outputs": [
        {
          "name": "stderr",
          "output_type": "stream",
          "text": [
            "/tmp/ipython-input-5-2436366619.py:1: SettingWithCopyWarning: \n",
            "A value is trying to be set on a copy of a slice from a DataFrame.\n",
            "Try using .loc[row_indexer,col_indexer] = value instead\n",
            "\n",
            "See the caveats in the documentation: https://pandas.pydata.org/pandas-docs/stable/user_guide/indexing.html#returning-a-view-versus-a-copy\n",
            "  texts['LowerText'] =texts['Text'].str.lower()    #convert all the tweets into lower case\n",
            "/tmp/ipython-input-5-2436366619.py:2: SettingWithCopyWarning: \n",
            "A value is trying to be set on a copy of a slice from a DataFrame.\n",
            "Try using .loc[row_indexer,col_indexer] = value instead\n",
            "\n",
            "See the caveats in the documentation: https://pandas.pydata.org/pandas-docs/stable/user_guide/indexing.html#returning-a-view-versus-a-copy\n",
            "  texts['RemovePunc']=texts['LowerText'].apply(lambda x:re.sub(r'[^\\w\\s]','',x))       #removes punctuation using regex pattern\n",
            "/tmp/ipython-input-5-2436366619.py:4: SettingWithCopyWarning: \n",
            "A value is trying to be set on a copy of a slice from a DataFrame.\n",
            "Try using .loc[row_indexer,col_indexer] = value instead\n",
            "\n",
            "See the caveats in the documentation: https://pandas.pydata.org/pandas-docs/stable/user_guide/indexing.html#returning-a-view-versus-a-copy\n",
            "  texts['RemoveStopwords']=texts['RemovePunc'].apply(lambda x:''.join([word for word in x.split() if word not in STOPWORDS])) #removes loaded stopwords , keeping only meaningful part\n"
          ]
        }
      ],
      "source": [
        "texts['LowerText'] =texts['Text'].str.lower()    #convert all the tweets into lower case\n",
        "texts['RemovePunc']=texts['LowerText'].apply(lambda x:re.sub(r'[^\\w\\s]','',x))       #removes punctuation using regex pattern\n",
        "STOPWORDS=set(stopwords.words('english'))       #loads common words like 'and','or','the' to ignore\n",
        "texts['RemoveStopwords']=texts['RemovePunc'].apply(lambda x:''.join([word for word in x.split() if word not in STOPWORDS])) #removes loaded stopwords , keeping only meaningful part"
      ]
    },
    {
      "cell_type": "code",
      "execution_count": null,
      "metadata": {
        "colab": {
          "base_uri": "https://localhost:8080/"
        },
        "id": "n4mrFxSVnRHr",
        "outputId": "e54d2fdf-2574-4c74-99c6-820d1a163b6e"
      },
      "outputs": [
        {
          "name": "stderr",
          "output_type": "stream",
          "text": [
            "Device set to use cpu\n"
          ]
        }
      ],
      "source": [
        "sentiment_analyzer=pipeline(\"sentiment-analysis\",\n",
        "model=\"distilbert-base-uncased-finetuned-sst-2-english\")"
      ]
    },
    {
      "cell_type": "code",
      "execution_count": null,
      "metadata": {
        "colab": {
          "background_save": true
        },
        "id": "LLaEkfoaoJ2q"
      },
      "outputs": [],
      "source": [
        "texts['Sentiment']=texts['RemoveStopwords'].map(lambda x:      #sends each cleaned tweet to the sentiment analyzer,model analyzes each tweet individually\n",
        "sentiment_analyzer(x)[0]['label'].lower())                     #gets the sentiment(POSITIVE/NEGATIVE) and convert to lowercase"
      ]
    },
    {
      "cell_type": "code",
      "execution_count": null,
      "metadata": {
        "colab": {
          "base_uri": "https://localhost:8080/",
          "height": 489
        },
        "id": "Y7ym5X7FpY5b",
        "outputId": "b3291c84-894e-4b04-9828-63b9e13818f7"
      },
      "outputs": [
        {
          "output_type": "stream",
          "name": "stdout",
          "text": [
            "Counter({'negative': 10000})\n"
          ]
        },
        {
          "output_type": "display_data",
          "data": {
            "text/plain": [
              "<Figure size 640x480 with 1 Axes>"
            ],
            "image/png": "[encoded data removed]"
          },
          "metadata": {}
        }
      ],
      "source": [
        "\n",
        "# Count and plot\n",
        "counter = Counter(texts['Sentiment'])\n",
        "print(counter)\n",
        "\n",
        "sns.barplot(x=list(counter.keys()), y=list(counter.values()))\n",
        "plt.xlabel('Sentiment')\n",
        "plt.ylabel(\"Number of Tweets\")\n",
        "plt.title(\"Sentiment Distribution of Tweets\")\n",
        "plt.show()\n",
        "                                                  #shows the plot\n",
        "\n"
      ]
    },
    {
      "cell_type": "code",
      "execution_count": null,
      "metadata": {
        "id": "rBX2E1t5rIuZ",
        "colab": {
          "base_uri": "https://localhost:8080/",
          "height": 541
        },
        "outputId": "2a3aa9ff-5691-4d30-964f-e4db079887ee"
      },
      "outputs": [
        {
          "output_type": "stream",
          "name": "stderr",
          "text": [
            "[nltk_data] Downloading package stopwords to /root/nltk_data...\n",
            "[nltk_data]   Package stopwords is already up-to-date!\n",
            "Device set to use cpu\n"
          ]
        },
        {
          "output_type": "stream",
          "name": "stdout",
          "text": [
            "Counter({'negative': 7531, 'positive': 2469})\n"
          ]
        },
        {
          "output_type": "display_data",
          "data": {
            "text/plain": [
              "<Figure size 640x480 with 1 Axes>"
            ],
            "image/png": "[encoded data removed]"
          },
          "metadata": {}
        }
      ],
      "source": [
        "import pandas as pd\n",
        "import re\n",
        "import nltk\n",
        "from collections import Counter\n",
        "import seaborn as sns\n",
        "import matplotlib.pyplot as plt\n",
        "from nltk.corpus import stopwords\n",
        "from transformers import pipeline\n",
        "\n",
        "# Download stopwords\n",
        "nltk.download('stopwords')\n",
        "\n",
        "# Load your CSV\n",
        "texts = pd.read_csv(\"twitter_dataset.csv\")  # Adjust path if needed\n",
        "\n",
        "# Text cleaning\n",
        "texts['LowerText'] = texts['Text'].str.lower()\n",
        "texts['RemovePunc'] = texts['LowerText'].apply(lambda x: re.sub(r'[^\\w\\s]', '', x))\n",
        "STOPWORDS = set(stopwords.words('english'))\n",
        "texts['RemoveStopwords'] = texts['RemovePunc'].apply(lambda x: ' '.join([word for word in x.split() if word not in STOPWORDS]))\n",
        "\n",
        "# Load sentiment analyzer\n",
        "sentiment_analyzer = pipeline(\"sentiment-analysis\", model=\"distilbert-base-uncased-finetuned-sst-2-english\")\n",
        "\n",
        "# Analyze sentiment\n",
        "texts['Sentiment'] = texts['RemoveStopwords'].map(lambda x: sentiment_analyzer(x)[0]['label'].lower())\n",
        "\n",
        "# Plot sentiment distribution\n",
        "counter = Counter(texts[\"Sentiment\"])\n",
        "print(counter)\n",
        "sns.barplot(x=list(counter.keys()), y=list(counter.values()))\n",
        "plt.xlabel('Sentiment')\n",
        "plt.ylabel(\"Number of Tweets\")\n",
        "plt.title(\"Sentiment Distribution of Tweets\")\n",
        "plt.show()"
      ]
    },
    {
      "cell_type": "code",
      "source": [],
      "metadata": {
        "id": "Fw-tz2UWD3bU"
      },
      "execution_count": null,
      "outputs": []
    }
  ],
  "metadata": {
    "colab": {
      "provenance": []
    },
    "kernelspec": {
      "display_name": "Python 3",
      "name": "python3"
    },
    "language_info": {
      "name": "python"
    }
  },
  "nbformat": 4,
  "nbformat_minor": 0
}