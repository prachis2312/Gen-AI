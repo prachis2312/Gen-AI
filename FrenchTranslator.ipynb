{
  "nbformat": 4,
  "nbformat_minor": 0,
  "metadata": {
    "colab": {
      "provenance": []
    },
    "kernelspec": {
      "name": "python3",
      "display_name": "Python 3"
    },
    "language_info": {
      "name": "python"
    }
  },
  "cells": [
    {
      "cell_type": "code",
      "execution_count": 12,
      "metadata": {
        "id": "wL4TzMbQt6Xw"
      },
      "outputs": [],
      "source": [
        "!pip install -q -U google-genai    #install the google gemini library quietly and get the latest version"
      ]
    },
    {
      "cell_type": "code",
      "source": [
        "import time                        #gives us a timer which helps us in giving text streamer effect\n",
        "from google import genai           #gives us tools to connect to google's AI(connection setup)\n",
        "from google.colab import userdata  #helps us to grab google's secret key"
      ],
      "metadata": {
        "id": "_olhqF7Uu0WY"
      },
      "execution_count": 13,
      "outputs": []
    },
    {
      "cell_type": "code",
      "source": [
        "key = userdata.get('Gemini_API_Key')  #retrieve your API Key"
      ],
      "metadata": {
        "id": "PcYvondQvGFU"
      },
      "execution_count": 14,
      "outputs": []
    },
    {
      "cell_type": "code",
      "source": [
        "#checking the setup\n",
        "def stream(text):                          #adding a streaming effect , to make it look like it is writing live\n",
        "  print('Bot: ' , end='')\n",
        "  words= text.split()                      #breaks sentence into list of words\n",
        "  for word in words:\n",
        "    print(word, end=' ',flush=True)\n",
        "    time.sleep(0.1)                        #delay which causes illusion that words appear in realtime\n",
        "  print()"
      ],
      "metadata": {
        "id": "unZqIxWKvTrM"
      },
      "execution_count": 15,
      "outputs": []
    },
    {
      "cell_type": "code",
      "source": [
        "text='We are building a chatbot!'           #test code for checking the streamin effect\n",
        "stream(text);"
      ],
      "metadata": {
        "colab": {
          "base_uri": "https://localhost:8080/"
        },
        "id": "ulmAQakdwzxD",
        "outputId": "431dda5d-42b6-4621-d272-79a6b2783324"
      },
      "execution_count": 17,
      "outputs": [
        {
          "output_type": "stream",
          "name": "stdout",
          "text": [
            "Bot: We are building a chatbot! \n"
          ]
        }
      ]
    },
    {
      "cell_type": "code",
      "source": [
        "#connect to the gemini ai\n",
        "try:\n",
        "  client=genai.Client(api_key=key)          #attempts to create connection to the brain using the key\n",
        "except KeyError:\n",
        "  print(f'Error with gemini api key.\\n error message:\\n{KeyError}')     #if API key is missing , then shows error\n",
        "chat=client.chats.create(model=\"gemini-2.0-flash\")"
      ],
      "metadata": {
        "id": "W0Tl54Pfw7D3"
      },
      "execution_count": 6,
      "outputs": []
    },
    {
      "cell_type": "code",
      "source": [
        "def ask_gemini(user_input):          #function to send user inputs to the chatbot and return its response to user\n",
        "  try:\n",
        "    prompt=f\"you are a english to french translator chatbot. Return the french version of the text provided to you , maintaining the tone and emotion of the prompt. Just return the translation of the input , nothing extra! Here's the input:{user_input}\"\n",
        "    response=chat.send_message(prompt)\n",
        "    return response.text\n",
        "  except Exception as e:\n",
        "    return f\"Oops,something went wrong: {e}\""
      ],
      "metadata": {
        "id": "hO4cwzsDyGVT"
      },
      "execution_count": 10,
      "outputs": []
    },
    {
      "cell_type": "code",
      "source": [
        "print(\"Welcome to your Gemini chatbot! Type 'quit' to exit.\")\n",
        "while True:\n",
        "  user_input=input(\"You: \")\n",
        "  if user_input.lower()=='quit':\n",
        "    response=ask_gemini(\"GoodBye!\")\n",
        "    stream(response)\n",
        "    break\n",
        "  response=ask_gemini(user_input)              #gets the response of gemini AI using the function\n",
        "  stream(response)                             #returns the response with a streaming effect"
      ],
      "metadata": {
        "colab": {
          "base_uri": "https://localhost:8080/"
        },
        "id": "HrECk9gRyli9",
        "outputId": "359c64dd-4ade-4adf-cd65-c042d63f612b"
      },
      "execution_count": 20,
      "outputs": [
        {
          "output_type": "stream",
          "name": "stdout",
          "text": [
            "Welcome to your Gemini chatbot! Type 'quit' to exit.\n",
            "You: Hello world\n",
            "Bot: Bonjour monde. \n",
            "You: how have you been\n",
            "Bot: Comment vas-tu ? \n",
            "You: how was your day\n",
            "Bot: Comment s'est passée ta journée ? \n",
            "You: i love you\n",
            "Bot: Je t'aime. \n",
            "You: i hate you\n",
            "Bot: Je te déteste. \n",
            "You: quit\n",
            "Bot: Au revoir ! \n"
          ]
        }
      ]
    },
    {
      "cell_type": "code",
      "source": [],
      "metadata": {
        "id": "dIaVsbipzNgG"
      },
      "execution_count": 18,
      "outputs": []
    }
  ]
}